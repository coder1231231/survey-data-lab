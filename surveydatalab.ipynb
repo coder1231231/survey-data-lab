{
 "cells": [
  {
   "cell_type": "code",
   "execution_count": 1,
   "id": "39317eb6",
   "metadata": {},
   "outputs": [],
   "source": [
    "#REFERENCE: https://raw.githubusercontent.com/fivethirtyeight/data/master/congress-age/congress-terms.csv\n",
    "#import dependencies\n",
    "import pandas as pd\n",
    "\n",
    "\n"
   ]
  },
  {
   "cell_type": "code",
   "execution_count": 2,
   "id": "a00d8ee2",
   "metadata": {},
   "outputs": [
    {
     "name": "stdout",
     "output_type": "stream",
     "text": [
      "                 airline  avail_seat_km_per_week  incidents_85_99  \\\n",
      "0             Aer Lingus               320906734                2   \n",
      "1              Aeroflot*              1197672318               76   \n",
      "2  Aerolineas Argentinas               385803648                6   \n",
      "3            Aeromexico*               596871813                3   \n",
      "4             Air Canada              1865253802                2   \n",
      "\n",
      "   fatal_accidents_85_99  fatalities_85_99  incidents_00_14  \\\n",
      "0                      0                 0                0   \n",
      "1                     14               128                6   \n",
      "2                      0                 0                1   \n",
      "3                      1                64                5   \n",
      "4                      0                 0                2   \n",
      "\n",
      "   fatal_accidents_00_14  fatalities_00_14  \n",
      "0                      0                 0  \n",
      "1                      1                88  \n",
      "2                      0                 0  \n",
      "3                      0                 0  \n",
      "4                      0                 0  \n"
     ]
    }
   ],
   "source": [
    "#read in congress terms dataset\n",
    "file = '../airline-safety.csv'\n",
    "df = pd.read_csv(file)\n",
    "print(df.head())"
   ]
  },
  {
   "cell_type": "code",
   "execution_count": null,
   "id": "a2a543e6",
   "metadata": {},
   "outputs": [],
   "source": []
  },
  {
   "cell_type": "code",
   "execution_count": 3,
   "id": "1fc6a6da",
   "metadata": {},
   "outputs": [
    {
     "name": "stdout",
     "output_type": "stream",
     "text": [
      "                 fatal_accidents_00_14\n",
      "incidents_00_14                       \n",
      "0                             0.000000\n",
      "1                             0.111111\n",
      "2                             0.750000\n",
      "3                             0.600000\n",
      "4                             0.800000\n",
      "5                             0.666667\n",
      "6                             1.000000\n",
      "7                             1.000000\n",
      "8                             1.000000\n",
      "10                            2.000000\n",
      "11                            1.000000\n",
      "14                            2.000000\n",
      "17                            3.000000\n",
      "24                            2.000000\n"
     ]
    }
   ],
   "source": [
    "#print mean age by chamber (as of 2013)\n",
    "by_chamber_mean = df.groupby('incidents_00_14')[['fatal_accidents_00_14']].mean()\n",
    "print(by_chamber_mean)"
   ]
  },
  {
   "cell_type": "code",
   "execution_count": 4,
   "id": "9a9882fd",
   "metadata": {},
   "outputs": [
    {
     "name": "stdout",
     "output_type": "stream",
     "text": [
      "    Total number of incidents, 2000–2014  freq\n",
      "0                                      0     9\n",
      "1                                      1     9\n",
      "2                                      2     8\n",
      "5                                      3     5\n",
      "4                                      4     5\n",
      "3                                      5     6\n",
      "6                                      6     4\n",
      "7                                      7     2\n",
      "9                                      8     2\n",
      "12                                    10     1\n",
      "8                                     11     2\n",
      "13                                    14     1\n",
      "10                                    17     1\n",
      "11                                    24     1\n"
     ]
    }
   ],
   "source": [
    "col = 'incidents_00_14' \n",
    "col_name = 'Total number of incidents, 2000–2014'\n",
    "freq = df[col].value_counts().rename_axis(col_name).reset_index(name='freq')\n",
    "freq = freq.sort_values(by = col_name)\n",
    "print(freq)"
   ]
  },
  {
   "cell_type": "code",
   "execution_count": 5,
   "id": "c4116731",
   "metadata": {},
   "outputs": [
    {
     "data": {
      "image/png": "[encoded data removed]",
      "text/plain": [
       "<Figure size 432x288 with 1 Axes>"
      ]
     },
     "metadata": {
      "needs_background": "light"
     },
     "output_type": "display_data"
    }
   ],
   "source": [
    "ax = freq.plot.barh(x=col_name, y='freq', rot=0)\n"
   ]
  },
  {
   "cell_type": "code",
   "execution_count": 6,
   "id": "81871f83",
   "metadata": {},
   "outputs": [
    {
     "data": {
      "image/png": "[encoded data removed]",
      "text/plain": [
       "<Figure size 432x288 with 1 Axes>"
      ]
     },
     "metadata": {
      "needs_background": "light"
     },
     "output_type": "display_data"
    }
   ],
   "source": [
    "freqq = df.groupby('fatal_accidents_00_14')['fatalities_00_14'].value_counts()\n",
    "ax = freqq.plot.barh()"
   ]
  },
  {
   "cell_type": "code",
   "execution_count": 7,
   "id": "729dde06",
   "metadata": {},
   "outputs": [
    {
     "name": "stdout",
     "output_type": "stream",
     "text": [
      "    Total number of incidents, 1985–1999  freqqq\n",
      "6                                      0       3\n",
      "2                                      1       7\n",
      "0                                      2       9\n",
      "1                                      3       8\n",
      "8                                      4       2\n",
      "5                                      5       4\n",
      "9                                      6       2\n",
      "4                                      7       5\n",
      "3                                      8       5\n",
      "18                                     9       1\n",
      "15                                    10       1\n",
      "7                                     12       2\n",
      "12                                    14       1\n",
      "17                                    16       1\n",
      "16                                    19       1\n",
      "11                                    21       1\n",
      "13                                    24       1\n",
      "14                                    25       1\n",
      "10                                    76       1\n"
     ]
    }
   ],
   "source": [
    "col = 'incidents_85_99' \n",
    "col_name = 'Total number of incidents, 1985–1999'\n",
    "freqqq = df[col].value_counts().rename_axis(col_name).reset_index(name='freqqq')\n",
    "freqqq = freqqq.sort_values(by = col_name)\n",
    "print(freqqq)"
   ]
  },
  {
   "cell_type": "code",
   "execution_count": 8,
   "id": "99033809",
   "metadata": {},
   "outputs": [
    {
     "data": {
      "image/png": "[encoded data removed]",
      "text/plain": [
       "<Figure size 432x288 with 1 Axes>"
      ]
     },
     "metadata": {
      "needs_background": "light"
     },
     "output_type": "display_data"
    }
   ],
   "source": [
    "ax = freqqq.plot.barh(x=col_name, y='freqqq', rot=0)"
   ]
  },
  {
   "cell_type": "code",
   "execution_count": 14,
   "id": "a2002adf",
   "metadata": {},
   "outputs": [
    {
     "data": {
      "text/plain": [
       "<bound method NDFrame.head of                        airline  avail_seat_km_per_week  incidents_85_99  \\\n",
       "0                   Aer Lingus               320906734                2   \n",
       "1                    Aeroflot*              1197672318               76   \n",
       "2        Aerolineas Argentinas               385803648                6   \n",
       "3                  Aeromexico*               596871813                3   \n",
       "4                   Air Canada              1865253802                2   \n",
       "5                   Air France              3004002661               14   \n",
       "6                   Air India*               869253552                2   \n",
       "7             Air New Zealand*               710174817                3   \n",
       "8             Alaska Airlines*               965346773                5   \n",
       "9                     Alitalia               698012498                7   \n",
       "10          All Nippon Airways              1841234177                3   \n",
       "11                   American*              5228357340               21   \n",
       "12           Austrian Airlines               358239823                1   \n",
       "13                     Avianca               396922563                5   \n",
       "14            British Airways*              3179760952                4   \n",
       "15             Cathay Pacific*              2582459303                0   \n",
       "16              China Airlines               813216487               12   \n",
       "17                      Condor               417982610                2   \n",
       "18                        COPA               550491507                3   \n",
       "19          Delta / Northwest*              6525658894               24   \n",
       "20                    Egyptair               557699891                8   \n",
       "21                       El Al               335448023                1   \n",
       "22          Ethiopian Airlines               488560643               25   \n",
       "23                     Finnair               506464950                1   \n",
       "24            Garuda Indonesia               613356665               10   \n",
       "25                    Gulf Air               301379762                1   \n",
       "26           Hawaiian Airlines               493877795                0   \n",
       "27                      Iberia              1173203126                4   \n",
       "28              Japan Airlines              1574217531                3   \n",
       "29               Kenya Airways               277414794                2   \n",
       "30                        KLM*              1874561773                7   \n",
       "31                  Korean Air              1734522605               12   \n",
       "32                LAN Airlines              1001965891                3   \n",
       "33                  Lufthansa*              3426529504                6   \n",
       "34           Malaysia Airlines              1039171244                3   \n",
       "35      Pakistan International               348563137                8   \n",
       "36         Philippine Airlines               413007158                7   \n",
       "37                     Qantas*              1917428984                1   \n",
       "38             Royal Air Maroc               295705339                5   \n",
       "39                        SAS*               682971852                5   \n",
       "40               Saudi Arabian               859673901                7   \n",
       "41          Singapore Airlines              2376857805                2   \n",
       "42               South African               651502442                2   \n",
       "43          Southwest Airlines              3276525770                1   \n",
       "44       Sri Lankan / AirLanka               325582976                2   \n",
       "45                      SWISS*               792601299                2   \n",
       "46                        TACA               259373346                3   \n",
       "47                         TAM              1509195646                8   \n",
       "48          TAP - Air Portugal               619130754                0   \n",
       "49                Thai Airways              1702802250                8   \n",
       "50            Turkish Airlines              1946098294                8   \n",
       "51       United / Continental*              7139291291               19   \n",
       "52  US Airways / America West*              2455687887               16   \n",
       "53            Vietnam Airlines               625084918                7   \n",
       "54             Virgin Atlantic              1005248585                1   \n",
       "55             Xiamen Airlines               430462962                9   \n",
       "\n",
       "    fatal_accidents_85_99  fatalities_85_99  incidents_00_14  \\\n",
       "0                       0                 0                0   \n",
       "1                      14               128                6   \n",
       "2                       0                 0                1   \n",
       "3                       1                64                5   \n",
       "4                       0                 0                2   \n",
       "5                       4                79                6   \n",
       "6                       1               329                4   \n",
       "7                       0                 0                5   \n",
       "8                       0                 0                5   \n",
       "9                       2                50                4   \n",
       "10                      1                 1                7   \n",
       "11                      5               101               17   \n",
       "12                      0                 0                1   \n",
       "13                      3               323                0   \n",
       "14                      0                 0                6   \n",
       "15                      0                 0                2   \n",
       "16                      6               535                2   \n",
       "17                      1                16                0   \n",
       "18                      1                47                0   \n",
       "19                     12               407               24   \n",
       "20                      3               282                4   \n",
       "21                      1                 4                1   \n",
       "22                      5               167                5   \n",
       "23                      0                 0                0   \n",
       "24                      3               260                4   \n",
       "25                      0                 0                3   \n",
       "26                      0                 0                1   \n",
       "27                      1               148                5   \n",
       "28                      1               520                0   \n",
       "29                      0                 0                2   \n",
       "30                      1                 3                1   \n",
       "31                      5               425                1   \n",
       "32                      2                21                0   \n",
       "33                      1                 2                3   \n",
       "34                      1                34                3   \n",
       "35                      3               234               10   \n",
       "36                      4                74                2   \n",
       "37                      0                 0                5   \n",
       "38                      3                51                3   \n",
       "39                      0                 0                6   \n",
       "40                      2               313               11   \n",
       "41                      2                 6                2   \n",
       "42                      1               159                1   \n",
       "43                      0                 0                8   \n",
       "44                      1                14                4   \n",
       "45                      1               229                3   \n",
       "46                      1                 3                1   \n",
       "47                      3                98                7   \n",
       "48                      0                 0                0   \n",
       "49                      4               308                2   \n",
       "50                      3                64                8   \n",
       "51                      8               319               14   \n",
       "52                      7               224               11   \n",
       "53                      3               171                1   \n",
       "54                      0                 0                0   \n",
       "55                      1                82                2   \n",
       "\n",
       "    fatal_accidents_00_14  fatalities_00_14  \n",
       "0                       0                 0  \n",
       "1                       1                88  \n",
       "2                       0                 0  \n",
       "3                       0                 0  \n",
       "4                       0                 0  \n",
       "5                       2               337  \n",
       "6                       1               158  \n",
       "7                       1                 7  \n",
       "8                       1                88  \n",
       "9                       0                 0  \n",
       "10                      0                 0  \n",
       "11                      3               416  \n",
       "12                      0                 0  \n",
       "13                      0                 0  \n",
       "14                      0                 0  \n",
       "15                      0                 0  \n",
       "16                      1               225  \n",
       "17                      0                 0  \n",
       "18                      0                 0  \n",
       "19                      2                51  \n",
       "20                      1                14  \n",
       "21                      0                 0  \n",
       "22                      2                92  \n",
       "23                      0                 0  \n",
       "24                      2                22  \n",
       "25                      1               143  \n",
       "26                      0                 0  \n",
       "27                      0                 0  \n",
       "28                      0                 0  \n",
       "29                      2               283  \n",
       "30                      0                 0  \n",
       "31                      0                 0  \n",
       "32                      0                 0  \n",
       "33                      0                 0  \n",
       "34                      2               537  \n",
       "35                      2                46  \n",
       "36                      1                 1  \n",
       "37                      0                 0  \n",
       "38                      0                 0  \n",
       "39                      1               110  \n",
       "40                      0                 0  \n",
       "41                      1                83  \n",
       "42                      0                 0  \n",
       "43                      0                 0  \n",
       "44                      0                 0  \n",
       "45                      0                 0  \n",
       "46                      1                 3  \n",
       "47                      2               188  \n",
       "48                      0                 0  \n",
       "49                      1                 1  \n",
       "50                      2                84  \n",
       "51                      2               109  \n",
       "52                      2                23  \n",
       "53                      0                 0  \n",
       "54                      0                 0  \n",
       "55                      0                 0  >"
      ]
     },
     "execution_count": 14,
     "metadata": {},
     "output_type": "execute_result"
    }
   ],
   "source": [
    "df.head\n"
   ]
  },
  {
   "cell_type": "code",
   "execution_count": 15,
   "id": "730cdf71",
   "metadata": {},
   "outputs": [
    {
     "data": {
      "text/plain": [
       "(56, 8)"
      ]
     },
     "execution_count": 15,
     "metadata": {},
     "output_type": "execute_result"
    }
   ],
   "source": [
    "df.shape #size of dataset"
   ]
  },
  {
   "cell_type": "code",
   "execution_count": 18,
   "id": "afe57c16",
   "metadata": {},
   "outputs": [
    {
     "data": {
      "text/plain": [
       "<AxesSubplot:>"
      ]
     },
     "execution_count": 18,
     "metadata": {},
     "output_type": "execute_result"
    },
    {
     "data": {
      "image/png": "[encoded data removed]",
      "text/plain": [
       "<Figure size 1080x504 with 1 Axes>"
      ]
     },
     "metadata": {},
     "output_type": "display_data"
    }
   ],
   "source": [
    "df['incidents_00_14'].value_counts().plot(kind=\"bar\", figsize=(15,7), color=\"#61d199\")"
   ]
  },
  {
   "cell_type": "code",
   "execution_count": null,
   "id": "9174d7a5",
   "metadata": {},
   "outputs": [],
   "source": []
  }
 ],
 "metadata": {
  "kernelspec": {
   "display_name": "Python 3 (ipykernel)",
   "language": "python",
   "name": "python3"
  },
  "language_info": {
   "codemirror_mode": {
    "name": "ipython",
    "version": 3
   },
   "file_extension": ".py",
   "mimetype": "text/x-python",
   "name": "python",
   "nbconvert_exporter": "python",
   "pygments_lexer": "ipython3",
   "version": "3.9.12"
  }
 },
 "nbformat": 4,
 "nbformat_minor": 5
}
